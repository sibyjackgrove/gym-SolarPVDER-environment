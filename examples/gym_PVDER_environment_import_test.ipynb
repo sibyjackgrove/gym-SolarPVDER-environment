{
 "cells": [
  {
   "cell_type": "markdown",
   "metadata": {
    "colab_type": "text",
    "id": "0kr14-JJ49tD"
   },
   "source": [
    "## Clone SolarPV-DER simulation utility repository and install it"
   ]
  },
  {
   "cell_type": "code",
   "execution_count": null,
   "metadata": {
    "collapsed": true
   },
   "outputs": [],
   "source": [
    "import os\n",
    "try:\n",
    "    import pvder\n",
    "except ImportError:\n",
    "    !git clone https://github.com/sibyjackgrove/SolarPV-DER-simulation-utility.git\n",
    "        \n",
    "    if os.path.exists(os.path.join(os.getcwd(), 'SolarPV-DER-simulation-utility')):\n",
    "        %cd SolarPV-DER-simulation-utility\n",
    "        !pip install -e .\n",
    "        %cd ..\n",
    "\n"
   ]
  },
  {
   "cell_type": "markdown",
   "metadata": {
    "colab_type": "text",
    "id": "zAlIYExjncYl"
   },
   "source": [
    "## Clone gym-PVDER repository and install it"
   ]
  },
  {
   "cell_type": "code",
   "execution_count": null,
   "metadata": {
    "collapsed": true
   },
   "outputs": [],
   "source": [
    "try:\n",
    "    import gym_PVDER\n",
    "except ImportError:\n",
    "    !git clone https://github.com/sibyjackgrove/gym-SolarPVDER-environment.git\n",
    "        \n",
    "    if os.path.exists(os.path.join(os.getcwd(), 'gym-SolarPVDER-environment')):\n",
    "        %cd gym-SolarPVDER-environment\n",
    "        !pip install -e .\n",
    "        %cd .."
   ]
  },
  {
   "cell_type": "markdown",
   "metadata": {
    "colab_type": "text",
    "id": "CqX6EArO49th"
   },
   "source": [
    "## Important: If running in Google colab instance, the notebook must be restarted before importing the newly installed modules. Other wise you will get import error."
   ]
  },
  {
   "cell_type": "markdown",
   "metadata": {
    "colab_type": "text",
    "id": "GmIwxfE3n0Et"
   },
   "source": [
    "## Import the modules and check if PVDER environment can be created"
   ]
  },
  {
   "cell_type": "code",
   "execution_count": null,
   "metadata": {
    "colab": {},
    "colab_type": "code",
    "id": "lcF_Aocz0i2h"
   },
   "outputs": [],
   "source": [
    "import gym\n",
    "import gym_PVDER\n",
    "import numpy as np\n",
    "#To show interactive plot in the notebook cell\n",
    "%matplotlib inline \n",
    "print('Gym version:',gym.__version__)"
   ]
  },
  {
   "cell_type": "code",
   "execution_count": null,
   "metadata": {
    "colab": {},
    "colab_type": "code",
    "collapsed": true,
    "id": "4-_Uiy_14QaH"
   },
   "outputs": [],
   "source": [
    "env = gym.make('PVDER-v0',DISCRETE_REWARD=True, goals_list=['voltage_regulation'])"
   ]
  },
  {
   "cell_type": "markdown",
   "metadata": {
    "colab_type": "text",
    "id": "JYWHRiUjqjPr"
   },
   "source": [
    "## Create a random agent and iteract with the environment"
   ]
  },
  {
   "cell_type": "code",
   "execution_count": null,
   "metadata": {
    "colab": {},
    "colab_type": "code",
    "id": "B7JuNNr533ze"
   },
   "outputs": [],
   "source": [
    "n_episodes = 2\n",
    "for i in range(n_episodes):\n",
    "    observation = env.reset()\n",
    "    done = False\n",
    "    while not done:\n",
    "        action = env.action_space.sample()  #Sample actions from the environment's discrete action space\n",
    "        print('Step:{},Action:{}'.format(env.steps,action))\n",
    "        observation, reward, done, _ = env.step(action)\n",
    "        env.render(mode='vector')\n",
    "        "
   ]
  },
  {
   "cell_type": "markdown",
   "metadata": {
    "colab_type": "text",
    "id": "flu_aEfq6GWl"
   },
   "source": [
    "## Visualize agent interactions as plots"
   ]
  },
  {
   "cell_type": "code",
   "execution_count": null,
   "metadata": {
    "colab": {},
    "colab_type": "code",
    "id": "KCw9T7zQ49tt",
    "scrolled": false
   },
   "outputs": [],
   "source": [
    "env.render(mode='human')"
   ]
  },
  {
   "cell_type": "markdown",
   "metadata": {},
   "source": [
    "## Check whether environment can be used with tf-agents framework"
   ]
  },
  {
   "cell_type": "code",
   "execution_count": null,
   "metadata": {
    "collapsed": true
   },
   "outputs": [],
   "source": [
    "try:\n",
    "    import tf_agents\n",
    "    from tf_agents.environments import suite_gym\n",
    "    environment = suite_gym.load('PVDER-v0')\n",
    "    print('action_spec:', environment.action_spec())\n",
    "    print('time_step_spec.observation:', environment.time_step_spec().observation)\n",
    "    print('time_step_spec.step_type:', environment.time_step_spec().step_type)\n",
    "    print('time_step_spec.discount:', environment.time_step_spec().discount)\n",
    "    print('time_step_spec.reward:', environment.time_step_spec().reward)\n",
    "    \n",
    "    action = 1\n",
    "    time_step = environment.reset()\n",
    "    print(time_step)\n",
    "    while not time_step.is_last():\n",
    "        time_step = environment.step(action)\n",
    "        print(time_step)\n",
    "except ImportError:\n",
    "    print('TF-Agents module not installed - Please install it to continue import test!')"
   ]
  }
 ],
 "metadata": {
  "accelerator": "GPU",
  "colab": {
   "collapsed_sections": [],
   "name": "gym_PVDER_environment_import_test.ipynb",
   "provenance": [],
   "toc_visible": true,
   "version": "0.3.2"
  },
  "kernelspec": {
   "display_name": "Python 3",
   "language": "python",
   "name": "python3"
  },
  "language_info": {
   "codemirror_mode": {
    "name": "ipython",
    "version": 3
   },
   "file_extension": ".py",
   "mimetype": "text/x-python",
   "name": "python",
   "nbconvert_exporter": "python",
   "pygments_lexer": "ipython3",
   "version": "3.6.3"
  }
 },
 "nbformat": 4,
 "nbformat_minor": 1
}
