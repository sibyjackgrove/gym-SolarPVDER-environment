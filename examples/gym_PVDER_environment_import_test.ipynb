{
 "cells": [
  {
   "cell_type": "markdown",
   "metadata": {
    "colab_type": "text",
    "id": "0kr14-JJ49tD"
   },
   "source": [
    "## Clone SolarPV-DER simulation utility repository and install it"
   ]
  },
  {
   "cell_type": "code",
   "execution_count": null,
   "metadata": {
    "colab": {},
    "colab_type": "code",
    "collapsed": true,
    "id": "qVLM-_ag49tG"
   },
   "outputs": [],
   "source": [
    "!git clone https://github.com/sibyjackgrove/SolarPV-DER-simulation-utility"
   ]
  },
  {
   "cell_type": "code",
   "execution_count": null,
   "metadata": {
    "colab": {},
    "colab_type": "code",
    "collapsed": true,
    "id": "Ba9Xq3w-49tM"
   },
   "outputs": [],
   "source": [
    "cd SolarPV-DER-simulation-utility"
   ]
  },
  {
   "cell_type": "code",
   "execution_count": null,
   "metadata": {
    "colab": {},
    "colab_type": "code",
    "collapsed": true,
    "id": "WSDXIBWW49tQ"
   },
   "outputs": [],
   "source": [
    "pip install -e ."
   ]
  },
  {
   "cell_type": "code",
   "execution_count": null,
   "metadata": {
    "colab": {},
    "colab_type": "code",
    "collapsed": true,
    "id": "AFOQ-lri5LXs"
   },
   "outputs": [],
   "source": [
    "cd .."
   ]
  },
  {
   "cell_type": "markdown",
   "metadata": {
    "colab_type": "text",
    "id": "zAlIYExjncYl"
   },
   "source": [
    "## Clone gym-PVDER repository and install it"
   ]
  },
  {
   "cell_type": "code",
   "execution_count": null,
   "metadata": {
    "colab": {},
    "colab_type": "code",
    "collapsed": true,
    "id": "wB3iRbqyxZfC"
   },
   "outputs": [],
   "source": [
    "!git clone https://github.com/sibyjackgrove/gym-SolarPVDER-environment.git"
   ]
  },
  {
   "cell_type": "code",
   "execution_count": null,
   "metadata": {
    "colab": {},
    "colab_type": "code",
    "collapsed": true,
    "id": "L2wwEa3szq-X"
   },
   "outputs": [],
   "source": [
    "cd gym-SolarPVDER-environment"
   ]
  },
  {
   "cell_type": "code",
   "execution_count": null,
   "metadata": {
    "colab": {},
    "colab_type": "code",
    "collapsed": true,
    "id": "VOtpJ-Vr0cmh"
   },
   "outputs": [],
   "source": [
    "pip install -e ."
   ]
  },
  {
   "cell_type": "markdown",
   "metadata": {
    "colab_type": "text",
    "id": "CqX6EArO49th"
   },
   "source": [
    "## Important: If running in Google colab instance, the notebook must be restarted before importing the newly installed module. Other wise you will get import error."
   ]
  },
  {
   "cell_type": "markdown",
   "metadata": {
    "colab_type": "text",
    "id": "GmIwxfE3n0Et"
   },
   "source": [
    "## Import the modules and check if PVDER environment can be created"
   ]
  },
  {
   "cell_type": "code",
   "execution_count": null,
   "metadata": {
    "colab": {},
    "colab_type": "code",
    "collapsed": true,
    "id": "lcF_Aocz0i2h"
   },
   "outputs": [],
   "source": [
    "import gym\n",
    "import gym_PVDER\n",
    "import numpy as np\n",
    "#To show interactive plot in the notebook cell\n",
    "%matplotlib inline  "
   ]
  },
  {
   "cell_type": "code",
   "execution_count": null,
   "metadata": {
    "colab": {},
    "colab_type": "code",
    "id": "4-_Uiy_14QaH"
   },
   "outputs": [],
   "source": [
    "env = gym.make('PVDER-v0')\n",
    "env.env.goal_list=['voltage_regulation']#['Q_control']\n",
    "env.env.DISCRETE_REWARD=True\n",
    "env.env.sim.simulation_events.show_events()"
   ]
  },
  {
   "cell_type": "markdown",
   "metadata": {
    "colab_type": "text",
    "id": "JYWHRiUjqjPr"
   },
   "source": [
    "## Create a random agent and iteract with the environment"
   ]
  },
  {
   "cell_type": "code",
   "execution_count": null,
   "metadata": {
    "colab": {},
    "colab_type": "code",
    "id": "B7JuNNr533ze"
   },
   "outputs": [],
   "source": [
    "n_episodes = 1\n",
    "for i in range(n_episodes):\n",
    "    observation = env.reset()\n",
    "    done = False\n",
    "    while not done:\n",
    "        action = env.action_space.sample()  #Sample actions from the environment's discrete action space\n",
    "        print('Action:',action)\n",
    "        observation, reward, done, _ = env.step(action)\n",
    "        env.render(mode='vector')\n",
    "        "
   ]
  },
  {
   "cell_type": "markdown",
   "metadata": {
    "colab_type": "text",
    "id": "flu_aEfq6GWl"
   },
   "source": [
    "## Visualize agent interactions as plots"
   ]
  },
  {
   "cell_type": "code",
   "execution_count": null,
   "metadata": {
    "colab": {},
    "colab_type": "code",
    "id": "KCw9T7zQ49tt",
    "scrolled": false
   },
   "outputs": [],
   "source": [
    "env.render(mode='human')"
   ]
  }
 ],
 "metadata": {
  "accelerator": "GPU",
  "colab": {
   "collapsed_sections": [],
   "name": "gym_PVDER_environment_import_test.ipynb",
   "provenance": [],
   "toc_visible": true,
   "version": "0.3.2"
  },
  "kernelspec": {
   "display_name": "Python 3",
   "language": "python",
   "name": "python3"
  },
  "language_info": {
   "codemirror_mode": {
    "name": "ipython",
    "version": 3
   },
   "file_extension": ".py",
   "mimetype": "text/x-python",
   "name": "python",
   "nbconvert_exporter": "python",
   "pygments_lexer": "ipython3",
   "version": "3.6.3"
  }
 },
 "nbformat": 4,
 "nbformat_minor": 1
}
