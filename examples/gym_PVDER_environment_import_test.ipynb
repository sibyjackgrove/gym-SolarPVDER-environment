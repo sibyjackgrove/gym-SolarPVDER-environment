{
  "nbformat": 4,
  "nbformat_minor": 0,
  "metadata": {
    "colab": {
      "name": "gym_PVDER_environment_import_test.ipynb",
      "version": "0.3.2",
      "provenance": [],
      "collapsed_sections": [],
      "include_colab_link": true
    },
    "kernelspec": {
      "name": "python3",
      "display_name": "Python 3"
    },
    "accelerator": "GPU"
  },
  "cells": [
    {
      "cell_type": "markdown",
      "metadata": {
        "id": "view-in-github",
        "colab_type": "text"
      },
      "source": [
        "<a href=\"https://colab.research.google.com/github/sibyjackgrove/gym-SolarPVDER-environment/blob/master/examples/gym_PVDER_environment_import_test.ipynb\" target=\"_parent\"><img src=\"https://colab.research.google.com/assets/colab-badge.svg\" alt=\"Open In Colab\"/></a>"
      ]
    },
    {
      "metadata": {
        "id": "zAlIYExjncYl",
        "colab_type": "text"
      },
      "cell_type": "markdown",
      "source": [
        "## Clone gym-PVDER repository and install it"
      ]
    },
    {
      "metadata": {
        "id": "wB3iRbqyxZfC",
        "colab_type": "code",
        "colab": {}
      },
      "cell_type": "code",
      "source": [
        "!git clone https://github.com/sibyjackgrove/gym-SolarPVDER-environment.git"
      ],
      "execution_count": 0,
      "outputs": []
    },
    {
      "metadata": {
        "id": "PwijcY_93R1i",
        "colab_type": "text"
      },
      "cell_type": "markdown",
      "source": [
        "## Go to directory and do pip install"
      ]
    },
    {
      "metadata": {
        "id": "L2wwEa3szq-X",
        "colab_type": "code",
        "colab": {}
      },
      "cell_type": "code",
      "source": [
        "cd gym-SolarPVDER-environment"
      ],
      "execution_count": 0,
      "outputs": []
    },
    {
      "metadata": {
        "id": "WzRR3E2Hzlw4",
        "colab_type": "code",
        "colab": {}
      },
      "cell_type": "code",
      "source": [
        "!git pull"
      ],
      "execution_count": 0,
      "outputs": []
    },
    {
      "metadata": {
        "id": "VOtpJ-Vr0cmh",
        "colab_type": "code",
        "colab": {}
      },
      "cell_type": "code",
      "source": [
        "pip install -e ."
      ],
      "execution_count": 0,
      "outputs": []
    },
    {
      "metadata": {
        "id": "GmIwxfE3n0Et",
        "colab_type": "text"
      },
      "cell_type": "markdown",
      "source": [
        "## Import the modules and check if PVDER environment can be created"
      ]
    },
    {
      "metadata": {
        "id": "lcF_Aocz0i2h",
        "colab_type": "code",
        "colab": {}
      },
      "cell_type": "code",
      "source": [
        "import gym\n",
        "import gym_PVDER"
      ],
      "execution_count": 0,
      "outputs": []
    },
    {
      "metadata": {
        "id": "4-_Uiy_14QaH",
        "colab_type": "code",
        "colab": {}
      },
      "cell_type": "code",
      "source": [
        "env = gym.make('PVDER-v0')"
      ],
      "execution_count": 0,
      "outputs": []
    },
    {
      "metadata": {
        "id": "JYWHRiUjqjPr",
        "colab_type": "text"
      },
      "cell_type": "markdown",
      "source": [
        "## Create a random agent and iteract with the environment"
      ]
    },
    {
      "metadata": {
        "id": "B7JuNNr533ze",
        "colab_type": "code",
        "colab": {}
      },
      "cell_type": "code",
      "source": [
        "episode_count = 1\n",
        "for i in range(episode_count):\n",
        "    observation = env.reset()\n",
        "    done = False\n",
        "    while not done:\n",
        "        action = env.action_space.sample()  #Sample actions from the environment's discrete action space\n",
        "        print('Action:',action)\n",
        "        observation, reward, done, _ = env.step(action)\n",
        "        env.render()\n",
        "        "
      ],
      "execution_count": 0,
      "outputs": []
    }
  ]
}